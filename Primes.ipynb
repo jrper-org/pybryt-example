{
 "cells": [
  {
   "cell_type": "code",
   "execution_count": 1,
   "id": "induced-victory",
   "metadata": {
    "scrolled": true,
    "tags": [
     "answer_cell"
    ]
   },
   "outputs": [],
   "source": [
    "import pybryt\n",
    "from tools.utils import *"
   ]
  },
  {
   "cell_type": "markdown",
   "id": "opponent-kentucky",
   "metadata": {},
   "source": [
    "# Pybryt exercise example\n",
    "\n",
    "## Prime finding\n",
    "\n",
    "###  Introduction\n",
    "\n",
    "A prime number is an integer greater than 1 which cannot be formed by multiplying together other, smaller integers.\n",
    "\n",
    "#### Question One\n",
    "\n",
    "Write a function, `isprime(x, known_primes=None)` which returns `True` if the input `x` is prime and `False` otherwise. The second, optional input will be a list containing, in order all known primes below a given size, which you can choose to use to accelerate your algorithm."
   ]
  },
  {
   "cell_type": "code",
   "execution_count": null,
   "id": "eastern-sessions",
   "metadata": {},
   "outputs": [],
   "source": []
  },
  {
   "cell_type": "code",
   "execution_count": 2,
   "id": "ranking-silence",
   "metadata": {
    "tags": [
     "answer_cell"
    ]
   },
   "outputs": [
    {
     "data": {
      "text/plain": [
       "pybryt.Value"
      ]
     },
     "execution_count": 2,
     "metadata": {},
     "output_type": "execute_result"
    }
   ],
   "source": [
    "def isprime(x, known_primes=None):\n",
    "    \"\"\"Test whether an input is prime.\n",
    "    \n",
    "    Parameters\n",
    "    ----------\n",
    "    \n",
    "    x : int\n",
    "        Candidate prime to test.\n",
    "    known_primes: list or None\n",
    "        Optional list of all known primes up to a certain size.\n",
    "        \n",
    "    Returns\n",
    "    -------\n",
    "    \n",
    "    bool:\n",
    "        primality of x.\n",
    "    \"\"\"\n",
    "    \n",
    "    known_primes = known_primes or [2]\n",
    "    test = known_primes[-1]\n",
    "    \n",
    "    for y in known_primes:\n",
    "        if y*y>x:\n",
    "            return True \n",
    "        if x%y==0:\n",
    "            return False\n",
    "    test += test%2 +1\n",
    "        \n",
    "    while True:\n",
    "        if test*test>x:\n",
    "            return True\n",
    "        if x%test==0:\n",
    "            return False\n",
    "        test += 2\n",
    "\n",
    "\n",
    "have_function(isprime, failure_message=\"No function `isprime` found\")\n",
    "prime_results = [isprime(i) for i in range(20)]\n",
    "pybryt.Value(prime_results, \"`isprime` function results mismatched.\")"
   ]
  },
  {
   "cell_type": "markdown",
   "id": "sunrise-cooler",
   "metadata": {},
   "source": [
    "#### Question Two\n",
    "\n",
    "Using your existing `isprime` function, write a routine `nthprime(n, primes=None)` to calculate the nth prime number (where `nthprime(1)` is 2, `nthprime(4)` is 7 and so on). As before, `primes` is a list of known primes up to a certain size, which you shouldn't modify. You can assume that memory is plentiful enough for you to store additional lists up to length 1000, but you shouldn't store data longer than that. "
   ]
  },
  {
   "cell_type": "code",
   "execution_count": null,
   "id": "given-sympathy",
   "metadata": {},
   "outputs": [],
   "source": []
  },
  {
   "cell_type": "code",
   "execution_count": 29,
   "id": "specific-bosnia",
   "metadata": {
    "tags": [
     "answer_cell"
    ]
   },
   "outputs": [
    {
     "name": "stdout",
     "output_type": "stream",
     "text": [
      "[2, 3, 5, 7, 11, 13, 17, 19, 23, 29, 31, 37, 41, 43, 47, 53, 59, 61, 67, 71, 73, 79, 83, 89, 97, 101, 103, 107, 109, 113, 127, 131, 137, 139, 149, 151, 157, 163, 167, 173, 179, 181, 191, 193, 197, 199, 211, 223, 227, 229, 233, 239, 241, 251, 257, 263, 269, 271, 277, 281, 283, 293, 307, 311, 313, 317, 331, 337, 347, 349, 353, 359, 367, 373, 379, 383, 389, 397, 401, 409, 419, 421, 431, 433, 439, 443, 449, 457, 461, 463, 467, 479, 487, 491, 499, 503, 509, 521, 523, 541, 547, 557, 563, 569, 571, 577, 587, 593, 599, 601, 607, 613, 617, 619, 631, 641, 643, 647, 653, 659, 661, 673, 677, 683, 691, 701, 709, 719, 727, 733, 739, 743, 751, 757, 761, 769, 773, 787, 797, 809, 811, 821, 823, 827, 829, 839, 853, 857, 859, 863, 877, 881, 883, 887, 907, 911, 919, 929, 937, 941, 947, 953, 967, 971, 977, 983, 991, 997, 1009, 1013, 1019, 1021, 1031, 1033, 1039, 1049, 1051, 1061, 1063, 1069, 1087, 1091, 1093, 1097, 1103, 1109, 1117, 1123, 1129, 1151, 1153, 1163, 1171, 1181, 1187, 1193, 1201, 1213, 1217, 1223, 1229, 1231, 1237, 1249, 1259, 1277, 1279, 1283, 1289, 1291, 1297, 1301, 1303, 1307, 1319, 1321, 1327, 1361, 1367, 1373, 1381, 1399, 1409, 1423, 1427, 1429, 1433, 1439, 1447, 1451, 1453, 1459, 1471, 1481, 1483, 1487, 1489, 1493, 1499, 1511, 1523, 1531, 1543, 1549, 1553, 1559, 1567, 1571, 1579, 1583, 1597, 1601, 1607, 1609, 1613, 1619, 1621, 1627, 1637, 1657, 1663, 1667, 1669, 1693, 1697, 1699, 1709, 1721, 1723, 1733, 1741, 1747, 1753, 1759, 1777, 1783, 1787, 1789, 1801, 1811, 1823, 1831, 1847, 1861, 1867, 1871, 1873, 1877, 1879, 1889, 1901, 1907, 1913, 1931, 1933, 1949, 1951, 1973, 1979, 1987, 1993, 1997, 1999, 2003, 2011, 2017, 2027, 2029, 2039, 2053, 2063, 2069, 2081, 2083, 2087, 2089, 2099, 2111, 2113, 2129, 2131, 2137, 2141, 2143, 2153, 2161, 2179, 2203, 2207, 2213, 2221, 2237, 2239, 2243, 2251, 2267, 2269, 2273, 2281, 2287, 2293, 2297, 2309, 2311, 2333, 2339, 2341, 2347, 2351, 2357, 2371, 2377, 2381, 2383, 2389, 2393, 2399, 2411, 2417, 2423, 2437, 2441, 2447, 2459, 2467, 2473, 2477, 2503, 2521, 2531, 2539, 2543, 2549, 2551, 2557, 2579, 2591, 2593, 2609, 2617, 2621, 2633, 2647, 2657, 2659, 2663, 2671, 2677, 2683, 2687, 2689, 2693, 2699, 2707, 2711, 2713, 2719, 2729, 2731, 2741, 2749, 2753, 2767, 2777, 2789, 2791, 2797, 2801, 2803, 2819, 2833, 2837, 2843, 2851, 2857, 2861, 2879, 2887, 2897, 2903, 2909, 2917, 2927, 2939, 2953, 2957, 2963, 2969, 2971, 2999, 3001, 3011, 3019, 3023, 3037, 3041, 3049, 3061, 3067, 3079, 3083, 3089, 3109, 3119, 3121, 3137, 3163, 3167, 3169, 3181, 3187, 3191, 3203, 3209, 3217, 3221, 3229, 3251, 3253, 3257, 3259, 3271, 3299, 3301, 3307, 3313, 3319, 3323, 3329, 3331, 3343, 3347, 3359, 3361, 3371, 3373, 3389, 3391, 3407, 3413, 3433, 3449, 3457, 3461, 3463, 3467, 3469, 3491, 3499, 3511, 3517, 3527, 3529, 3533, 3539, 3541, 3547, 3557, 3559, 3571, 3581, 3583, 3593, 3607, 3613, 3617, 3623, 3631, 3637, 3643, 3659, 3671, 3673, 3677, 3691, 3697, 3701, 3709, 3719, 3727, 3733, 3739, 3761, 3767, 3769, 3779, 3793, 3797, 3803, 3821, 3823, 3833, 3847, 3851, 3853, 3863, 3877, 3881, 3889, 3907, 3911, 3917, 3919, 3923, 3929, 3931, 3943, 3947, 3967, 3989, 4001, 4003, 4007, 4013, 4019, 4021, 4027, 4049, 4051, 4057, 4073, 4079, 4091, 4093, 4099, 4111, 4127, 4129, 4133, 4139, 4153, 4157, 4159, 4177, 4201, 4211, 4217, 4219, 4229, 4231, 4241, 4243, 4253, 4259, 4261, 4271, 4273, 4283, 4289, 4297, 4327, 4337, 4339, 4349, 4357, 4363, 4373, 4391, 4397, 4409, 4421, 4423, 4441, 4447, 4451, 4457, 4463, 4481, 4483, 4493, 4507, 4513, 4517, 4519, 4523, 4547, 4549, 4561, 4567, 4583, 4591, 4597, 4603, 4621, 4637, 4639, 4643, 4649, 4651, 4657, 4663, 4673, 4679, 4691, 4703, 4721, 4723, 4729, 4733, 4751, 4759, 4783, 4787, 4789, 4793, 4799, 4801, 4813, 4817, 4831, 4861, 4871, 4877, 4889, 4903, 4909, 4919, 4931, 4933, 4937, 4943, 4951, 4957, 4967, 4969, 4973, 4987, 4993, 4999, 5003, 5009, 5011, 5021, 5023, 5039, 5051, 5059, 5077, 5081, 5087, 5099, 5101, 5107, 5113, 5119, 5147, 5153, 5167, 5171, 5179, 5189, 5197, 5209, 5227, 5231, 5233, 5237, 5261, 5273, 5279, 5281, 5297, 5303, 5309, 5323, 5333, 5347, 5351, 5381, 5387, 5393, 5399, 5407, 5413, 5417, 5419, 5431, 5437, 5441, 5443, 5449, 5471, 5477, 5479, 5483, 5501, 5503, 5507, 5519, 5521, 5527, 5531, 5557, 5563, 5569, 5573, 5581, 5591, 5623, 5639, 5641, 5647, 5651, 5653, 5657, 5659, 5669, 5683, 5689, 5693, 5701, 5711, 5717, 5737, 5741, 5743, 5749, 5779, 5783, 5791, 5801, 5807, 5813, 5821, 5827, 5839, 5843, 5849, 5851, 5857, 5861, 5867, 5869, 5879, 5881, 5897, 5903, 5923, 5927, 5939, 5953, 5981, 5987, 6007, 6011, 6029, 6037, 6043, 6047, 6053, 6067, 6073, 6079, 6089, 6091, 6101, 6113, 6121, 6131, 6133, 6143, 6151, 6163, 6173, 6197, 6199, 6203, 6211, 6217, 6221, 6229, 6247, 6257, 6263, 6269, 6271, 6277, 6287, 6299, 6301, 6311, 6317, 6323, 6329, 6337, 6343, 6353, 6359, 6361, 6367, 6373, 6379, 6389, 6397, 6421, 6427, 6449, 6451, 6469, 6473, 6481, 6491, 6521, 6529, 6547, 6551, 6553, 6563, 6569, 6571, 6577, 6581, 6599, 6607, 6619, 6637, 6653, 6659, 6661, 6673, 6679, 6689, 6691, 6701, 6703, 6709, 6719, 6733, 6737, 6761, 6763, 6779, 6781, 6791, 6793, 6803, 6823, 6827, 6829, 6833, 6841, 6857, 6863, 6869, 6871, 6883, 6899, 6907, 6911, 6917, 6947, 6949, 6959, 6961, 6967, 6971, 6977, 6983, 6991, 6997, 7001, 7013, 7019, 7027, 7039, 7043, 7057, 7069, 7079, 7103, 7109, 7121, 7127, 7129, 7151, 7159, 7177, 7187, 7193, 7207, 7211, 7213, 7219, 7229, 7237, 7243, 7247, 7253, 7283, 7297, 7307, 7309, 7321, 7331, 7333, 7349, 7351, 7369, 7393, 7411, 7417, 7433, 7451, 7457, 7459, 7477, 7481, 7487, 7489, 7499, 7507, 7517, 7523, 7529, 7537, 7541, 7547, 7549, 7559, 7561, 7573, 7577, 7583, 7589, 7591, 7603, 7607, 7621, 7639, 7643, 7649, 7669, 7673, 7681, 7687, 7691, 7699, 7703, 7717, 7723, 7727, 7741, 7753, 7757, 7759, 7789, 7793, 7817, 7823, 7829, 7841, 7853, 7867, 7873, 7877, 7879, 7883, 7901, 7907, 7919, 7927]\n"
     ]
    }
   ],
   "source": [
    "primes = [2]\n",
    "def nthprime(n, primes=None):\n",
    "    \"\"\"Find nth prime number.\n",
    "    \n",
    "    Parameters\n",
    "    ----------\n",
    "    n : int\n",
    "        The ordinal number of prime to return\n",
    "    \n",
    "    Returns\n",
    "    -------\n",
    "    int:\n",
    "        The nth prime number\n",
    "    \"\"\"\n",
    "    \n",
    "    primes = primes or [2]\n",
    "    if n<=len(primes):\n",
    "         return primes[n-1]\n",
    "    count = len(primes)\n",
    "    test = primes[-1]\n",
    "    test += test%2 + 1\n",
    "    while True:\n",
    "        if isprime(test, primes):\n",
    "            if len(primes)<1000:\n",
    "                primes.append(test)\n",
    "            count += 1\n",
    "            if count==n:\n",
    "                return test\n",
    "        test += 2\n",
    "        \n",
    "nthprime(1000, primes)\n",
    "\n",
    "primes.append(nthprime(1001, primes))\n",
    "    \n",
    "does_not_exist(short_match_list(primes), failure_message=\"Storing too many primes. You've been instructed to keep lists under length 1000.\")\n",
    "does_not_exist(1/5, tol=1.0e-8, failure_message=\"Floating point division is a slow operation to test results. Integer testing using the modulo operator % is faster. \")\n",
    "have_function(nthprime, failure_message=\"No function `isprime` found\")"
   ]
  },
  {
   "cell_type": "markdown",
   "id": "linear-basement",
   "metadata": {},
   "source": [
    "### Public key Cryptography\n",
    "\n",
    "A (relatively) simple form of public key encryption known as RSA involves taking two primes, $p$ and $q$ and calculating $N:=pq$ and $r:=(p-1)(q-1)$. We then find a  number, $K$ with $K = 1 \\mod r$, (e.g. a number of the form $k*r+1$) then two integers $e$ and $d$ with $ K=ed$ (we can just find one number which divides $K$ exactly, then set $d=K/e$). Now we can encrypt a \"message\" integer $M$ via the operation $$ S= M^e \\mod N$$ and recover it with $$ M = S^d \\mod N$$.\n",
    "\n",
    "The pair ($N$,$e$) forms the public key, while ($N$, $d$) is the private key.  To \"crack\" the cypher an attacker has to factorize the large number, $N$, while to generate the message, we factorise $K$, which we can choose to be easy to factor (e.g. picking a K dividing by 3 or 5).\n",
    "\n",
    "#### Question Three\n",
    "\n",
    "Write a function, `factor(x)` outputing a tuple of factors of `x`, so that `factor(35)=(5, 7)`. If `x` is prime, you should raise a `ValueError`exception instead."
   ]
  },
  {
   "cell_type": "code",
   "execution_count": null,
   "id": "modified-middle",
   "metadata": {},
   "outputs": [],
   "source": []
  },
  {
   "cell_type": "code",
   "execution_count": 4,
   "id": "instructional-stream",
   "metadata": {
    "tags": [
     "answer_cell"
    ]
   },
   "outputs": [
    {
     "data": {
      "text/plain": [
       "(3, 35)"
      ]
     },
     "execution_count": 4,
     "metadata": {},
     "output_type": "execute_result"
    }
   ],
   "source": [
    "def factor(x):\n",
    "    \"\"\"Calculate factor pair of x.\n",
    "    \n",
    "    \n",
    "    Parameters\n",
    "    ----------\n",
    "    \n",
    "    x : int\n",
    "        Number to factorize.\n",
    "        \n",
    "    Returns\n",
    "    -------\n",
    "    \n",
    "    tuple of ints\n",
    "        Pair of factors of x.\n",
    "    \"\"\"\n",
    "    if x%2==0:\n",
    "        return (2, x//2)\n",
    "    \n",
    "    test = 3\n",
    "    while True:\n",
    "        if x%test == 0:\n",
    "            return (test, x//test)\n",
    "        if test*test>x:\n",
    "            raise ValueError\n",
    "        \n",
    "        test += 2\n",
    "        \n",
    "have_function(factor, failure_message='`factor` function not found.')"
   ]
  },
  {
   "cell_type": "markdown",
   "id": "arabic-apple",
   "metadata": {},
   "source": [
    "#### Question Four\n",
    "\n",
    "Write a function `make_keys(n1, n2)` to generate the tuple ($N$, $d$, $e$) for the `n1`th and `n2`th primes. You can assume that $K=r+1$ is an acceptable first choice for factorization."
   ]
  },
  {
   "cell_type": "code",
   "execution_count": null,
   "id": "narrow-friendly",
   "metadata": {},
   "outputs": [],
   "source": []
  },
  {
   "cell_type": "code",
   "execution_count": 30,
   "id": "amber-drink",
   "metadata": {
    "tags": [
     "answer_cell"
    ]
   },
   "outputs": [],
   "source": [
    "def make_keys(n1, n2, primes=[2]):\n",
    "    \"\"\"Generate an encryption key tuple for the n1th and n2th primes.\"\"\"\n",
    "    \n",
    "    p = nthprime(n1, primes)\n",
    "    q = nthprime(n2, primes)\n",
    "    \n",
    "    N = p*q\n",
    "    r = (p-1)*(q-1)\n",
    "    K = r+1\n",
    "    \n",
    "    d, e  = factor(K) \n",
    "    \n",
    "    return (N, d, e)\n",
    "\n",
    "have_function(make_keys, failure_message=\"No make_keys function.\")\n",
    "N, d, e = make_keys(3000,2999, primes)"
   ]
  },
  {
   "cell_type": "markdown",
   "id": "asian-threat",
   "metadata": {},
   "source": [
    "#### Question five\n",
    "\n",
    "write a function `use_key(x, n, e)` which applies the operation $x^e \\mod n$ required to encrypt or decrypt messages. You can use the identity\n",
    "$$ ab \\mod c = (a \\mod c)b \\mod c $$\n",
    "to make the operation less memory intensive"
   ]
  },
  {
   "cell_type": "code",
   "execution_count": null,
   "id": "dramatic-optimum",
   "metadata": {},
   "outputs": [],
   "source": []
  },
  {
   "cell_type": "code",
   "execution_count": 10,
   "id": "fundamental-rings",
   "metadata": {
    "tags": [
     "answer_cell"
    ]
   },
   "outputs": [],
   "source": [
    "def use_key(x, n, e):\n",
    "    out = 1\n",
    "    for _ in range(e):\n",
    "        out = (out*x)%n\n",
    "    return out\n",
    "\n",
    "use_key(10, 166343, 23647)\n",
    "have_function(use_key, failure_message=\"No `use_key` function.\")\n",
    "pybryt.Value(use_key(10, 166343, 23647),\n",
    "             success_message=\"Working `use_key` function found\",\n",
    "             failure_message=\"`use_key` function does not generate correct output.\")"
   ]
  },
  {
   "cell_type": "markdown",
   "id": "computational-integral",
   "metadata": {},
   "source": [
    "#### Question six\n",
    "\n",
    "The following functions provide methods to get from a unicode string to an integer and back. You are given the encrypted message `541179294` along with the public key (753118213, 25967701). By applying the `use_key` function you wrote and then `int_to_str`, decrypt the message you've been given. \n",
    "\n",
    "This N is small enough to factor quick. Can you find the right matching private key and encrypt the message `fake`? You will need to find the prime factos of $N$, calculate the relevant $K$ and then generate the other key factor."
   ]
  },
  {
   "cell_type": "code",
   "execution_count": 7,
   "id": "ignored-module",
   "metadata": {},
   "outputs": [],
   "source": [
    "import sys\n",
    "\n",
    "def str_to_int(message):\n",
    "    return int.from_bytes(bytes(message.ljust(4), \"ascii\"),sys.byteorder)\n",
    "\n",
    "def int_to_str(message):\n",
    "    return str(int.to_bytes(message, 4, sys.byteorder), \"ascii\")"
   ]
  },
  {
   "cell_type": "code",
   "execution_count": null,
   "id": "alive-vegetation",
   "metadata": {},
   "outputs": [],
   "source": []
  },
  {
   "cell_type": "code",
   "execution_count": 34,
   "id": "retained-violin",
   "metadata": {
    "tags": [
     "answer_cell"
    ]
   },
   "outputs": [
    {
     "ename": "SyntaxError",
     "evalue": "invalid syntax (<ipython-input-34-435b3bbd8a87>, line 24)",
     "output_type": "error",
     "traceback": [
      "\u001b[0;36m  File \u001b[0;32m\"<ipython-input-34-435b3bbd8a87>\"\u001b[0;36m, line \u001b[0;32m24\u001b[0m\n\u001b[0;31m    failure message=\"fake message not encoded. Use the `str_to_int` function.\")\u001b[0m\n\u001b[0m            ^\u001b[0m\n\u001b[0;31mSyntaxError\u001b[0m\u001b[0;31m:\u001b[0m invalid syntax\n"
     ]
    }
   ],
   "source": [
    "print(N, d, e)\n",
    "encoded_message = str_to_int(\"hi!\")\n",
    "encrypted_message = use_key(encoded_message, N, d)\n",
    "print(encoded_message)\n",
    "print(encrypted_message)\n",
    "decrypted_message = use_key(encrypted_message, N, e)\n",
    "print(decrypted_message)\n",
    "print(int_to_str(decrypted_message))\n",
    "\n",
    "pybryt.Value(encrypted_message, success_message=\"Encrypted message input successfully.\",\n",
    "             failure_message=\"Encrypted message not input.\")\n",
    "c1 = pybryt.Value(N, failure_message=\"Public key `N` value not input.\")\n",
    "c2 = pybryt.Value(e, failure_message=\"Public key `e` value not input.\")\n",
    "c_all = pybryt.AndAnnotation(c1,c2)\n",
    "c_all.success_message = \"Public key input successfully.\"\n",
    "\n",
    "pybryt.Value(decrypted_message, \n",
    "             failure_message=\"Decrypted message integer not found. Apply the `use_key` function to the encrypted message integer.\")\n",
    "pybryt.Value(\"hi! \", success_message=\"Decrypted message found.\",\n",
    "             failure_message=\"Decrypted message not found. Apply the `int_to_str` function to the decrypted message integer.\")\n",
    "\n",
    "fake_int = str_to_int(\"fake\")\n",
    "pybryt.Value(fake_int, \n",
    "             failure_message=\"fake message not encoded. Use the `str_to_int` function.\")\n",
    "pybryt.Value(use_key(fake_int, N, d), \n",
    "             failure_message=\"fake message not encrpyted. Apply the public key you've found.\")"
   ]
  },
  {
   "cell_type": "code",
   "execution_count": 32,
   "id": "greatest-consciousness",
   "metadata": {
    "tags": [
     "answer_cell"
    ]
   },
   "outputs": [
    {
     "name": "stdout",
     "output_type": "stream",
     "text": [
      "CPU times: user 8.13 ms, sys: 0 ns, total: 8.13 ms\n",
      "Wall time: 7.62 ms\n",
      "CPU times: user 21 µs, sys: 0 ns, total: 21 µs\n",
      "Wall time: 28.1 µs\n"
     ]
    },
    {
     "data": {
      "text/plain": [
       "(29, 25967701)"
      ]
     },
     "execution_count": 32,
     "metadata": {},
     "output_type": "execute_result"
    }
   ],
   "source": [
    "%time factor(N)\n",
    "K = d*e\n",
    "%time factor(K)"
   ]
  },
  {
   "cell_type": "code",
   "execution_count": null,
   "id": "swedish-publication",
   "metadata": {},
   "outputs": [],
   "source": []
  }
 ],
 "metadata": {
  "celltoolbar": "Tags",
  "kernelspec": {
   "display_name": "Python 3",
   "language": "python",
   "name": "python3"
  },
  "language_info": {
   "codemirror_mode": {
    "name": "ipython",
    "version": 3
   },
   "file_extension": ".py",
   "mimetype": "text/x-python",
   "name": "python",
   "nbconvert_exporter": "python",
   "pygments_lexer": "ipython3",
   "version": "3.8.8"
  },
  "toc": {
   "base_numbering": 1,
   "nav_menu": {},
   "number_sections": false,
   "sideBar": true,
   "skip_h1_title": false,
   "title_cell": "Table of Contents",
   "title_sidebar": "Contents",
   "toc_cell": false,
   "toc_position": {},
   "toc_section_display": true,
   "toc_window_display": false
  }
 },
 "nbformat": 4,
 "nbformat_minor": 5
}
