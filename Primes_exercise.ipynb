{
 "cells": [
  {
   "cell_type": "markdown",
   "id": "opponent-kentucky",
   "metadata": {},
   "source": [
    "# Pybryt exercise example\n",
    "\n",
    "## Prime finding\n",
    "\n",
    "###  Introduction\n",
    "\n",
    "A prime number is an integer greater than 1 which cannot be formed by multiplying together other, smaller integers.\n",
    "\n",
    "#### Question One\n",
    "\n",
    "Write a function, `isprime(x, known_primes=None)` which returns `True` if the input `x` is prime and `False` otherwise. The second, optional input will be a list containing, in order all known primes below a given size, which you can choose to use to accelerate your algorithm."
   ]
  },
  {
   "cell_type": "code",
   "execution_count": null,
   "id": "eastern-sessions",
   "metadata": {},
   "outputs": [],
   "source": [
    "def isprime(x, known_primes=None):\n",
    "    for i in range(x):\n",
    "        if x%i==0:\n",
    "            return False\n",
    "        return True"
   ]
  },
  {
   "cell_type": "markdown",
   "id": "sunrise-cooler",
   "metadata": {},
   "source": [
    "#### Question Two\n",
    "\n",
    "Using your existing `isprime` function, write a routine `nthprime(n, primes=None)` to calculate the nth prime number (where `nthprime(1)` is 2, `nthprime(4)` is 7 and so on). As before, `primes` is a list of known primes up to a certain size, which you shouldn't modify. You can assume that memory is plentiful enough for you to store additional lists up to length 1000, but you shouldn't store data longer than that. "
   ]
  },
  {
   "cell_type": "code",
   "execution_count": null,
   "id": "given-sympathy",
   "metadata": {},
   "outputs": [],
   "source": []
  },
  {
   "cell_type": "markdown",
   "id": "linear-basement",
   "metadata": {},
   "source": [
    "### Public key Cryptography\n",
    "\n",
    "A (relatively) simple form of public key encryption known as RSA involves taking two primes, $p$ and $q$ and calculating $N:=pq$ and $r:=(p-1)(q-1)$. We then find a  number, $K$ with $K = 1 \\mod r$, (e.g. a number of the form $k*r+1$) then two integers $e$ and $d$ with $ K=ed$ (we can just find one number which divides $K$ exactly, then set $d=K/e$). Now we can encrypt a \"message\" integer $M$ via the operation $$ S= M^e \\mod N$$ and recover it with $$ M = S^d \\mod N$$.\n",
    "\n",
    "The pair ($N$,$e$) forms the public key, while ($N$, $d$) is the private key.  To \"crack\" the cypher an attacker has to factorize the large number, $N$, while to generate the message, we factorise $K$, which we can choose to be easy to factor (e.g. picking a K dividing by 3 or 5).\n",
    "\n",
    "#### Question Three\n",
    "\n",
    "Write a function, `factor(x)` outputing a tuple of factors of `x`, so that `factor(35)=(5, 7)`. If `x` is prime, you should raise a `ValueError`exception instead."
   ]
  },
  {
   "cell_type": "code",
   "execution_count": null,
   "id": "modified-middle",
   "metadata": {},
   "outputs": [],
   "source": []
  },
  {
   "cell_type": "markdown",
   "id": "arabic-apple",
   "metadata": {},
   "source": [
    "#### Question Four\n",
    "\n",
    "Write a function `make_keys(n1, n2)` to generate the tuple ($N$, $d$, $e$) for the `n1`th and `n2`th primes. You can assume that $K=r+1$ is an acceptable first choice for factorization."
   ]
  },
  {
   "cell_type": "code",
   "execution_count": null,
   "id": "narrow-friendly",
   "metadata": {},
   "outputs": [],
   "source": []
  },
  {
   "cell_type": "markdown",
   "id": "asian-threat",
   "metadata": {},
   "source": [
    "#### Question five\n",
    "\n",
    "write a function `use_key(x, n, e)` which applies the operation $x^e \\mod n$ required to encrypt or decrypt messages. You can use the identity\n",
    "$$ ab \\mod c = (a \\mod c)b \\mod c $$\n",
    "to make the operation less memory intensive"
   ]
  },
  {
   "cell_type": "code",
   "execution_count": null,
   "id": "dramatic-optimum",
   "metadata": {},
   "outputs": [],
   "source": []
  },
  {
   "cell_type": "markdown",
   "id": "computational-integral",
   "metadata": {},
   "source": [
    "#### Question six\n",
    "\n",
    "The following functions provide methods to get from a unicode string to an integer and back. You are given the encrypted message `541179294` along with the public key (753118213, 25967701). By applying the `use_key` function you wrote and then `int_to_str`, decrypt the message you've been given. \n",
    "\n",
    "This N is small enough to factor quick. Can you find the right matching private key and encrypt the message `fake`? You will need to find the prime factos of $N$, calculate the relevant $K$ and then generate the other key factor."
   ]
  },
  {
   "cell_type": "code",
   "execution_count": 7,
   "id": "ignored-module",
   "metadata": {},
   "outputs": [],
   "source": [
    "import sys\n",
    "\n",
    "def str_to_int(message):\n",
    "    return int.from_bytes(bytes(message.ljust(4), \"ascii\"),sys.byteorder)\n",
    "\n",
    "def int_to_str(message):\n",
    "    return str(int.to_bytes(message, 4, sys.byteorder), \"ascii\")"
   ]
  },
  {
   "cell_type": "code",
   "execution_count": null,
   "id": "alive-vegetation",
   "metadata": {},
   "outputs": [],
   "source": []
  },
  {
   "cell_type": "code",
   "execution_count": 32,
   "id": "greatest-consciousness",
   "metadata": {
    "tags": [
     "answer_cell"
    ]
   },
   "outputs": [
    {
     "name": "stdout",
     "output_type": "stream",
     "text": [
      "CPU times: user 8.13 ms, sys: 0 ns, total: 8.13 ms\n",
      "Wall time: 7.62 ms\n",
      "CPU times: user 21 µs, sys: 0 ns, total: 21 µs\n",
      "Wall time: 28.1 µs\n"
     ]
    },
    {
     "data": {
      "text/plain": [
       "(29, 25967701)"
      ]
     },
     "execution_count": 32,
     "metadata": {},
     "output_type": "execute_result"
    }
   ],
   "source": [
    "%time factor(N)\n",
    "K = d*e\n",
    "%time factor(K)"
   ]
  },
  {
   "cell_type": "code",
   "execution_count": null,
   "id": "swedish-publication",
   "metadata": {},
   "outputs": [],
   "source": []
  }
 ],
 "metadata": {
  "celltoolbar": "Tags",
  "kernelspec": {
   "display_name": "Python 3",
   "language": "python",
   "name": "python3"
  },
  "language_info": {
   "codemirror_mode": {
    "name": "ipython",
    "version": 3
   },
   "file_extension": ".py",
   "mimetype": "text/x-python",
   "name": "python",
   "nbconvert_exporter": "python",
   "pygments_lexer": "ipython3",
   "version": "3.8.8"
  },
  "toc": {
   "base_numbering": 1,
   "nav_menu": {},
   "number_sections": false,
   "sideBar": true,
   "skip_h1_title": false,
   "title_cell": "Table of Contents",
   "title_sidebar": "Contents",
   "toc_cell": false,
   "toc_position": {},
   "toc_section_display": true,
   "toc_window_display": false
  }
 },
 "nbformat": 4,
 "nbformat_minor": 5
}
